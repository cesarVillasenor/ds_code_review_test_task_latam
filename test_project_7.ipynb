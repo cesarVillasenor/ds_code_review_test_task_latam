{
  "cells": [
    {
      "cell_type": "markdown",
      "metadata": {},
      "source": [
        "Hello STUDENT NAME!\n",
        "\n",
        "My name is Cesar Villasenor. I'm happy to review your project today.\n",
        "\n",
        "When I will see mistake at the first time, I will just point it out. I let you find it and fix it by yourself. I'm trying to prepare you to work as an Data Analyst. SO, at a real job, your team lead will do the same. But if you can't handle this task yet, I will give you a more accurate hint at the next iteration.\n",
        "\n",
        "You will find my comments below - **please do not move, modify or delete them**.\n",
        "\n",
        "You can find my comments in green, yellow or red boxes like this:\n",
        " \n",
        "<div class=\"alert alert-block alert-success\">\n",
        "<b>Reviewer's comment</b> <a class=\"tocSkip\"></a>\n",
        "\n",
        "Success. Everything is done succesfully.\n",
        "</div>\n",
        "\n",
        "<div class=\"alert alert-block alert-warning\">\n",
        "<b>Reviewer's comment</b> <a class=\"tocSkip\"></a>\n",
        "\n",
        "Remarks. Some recommendations.\n",
        "</div>\n",
        "\n",
        "<div class=\"alert alert-block alert-danger\">\n",
        "\n",
        "<b>Reviewer's comment</b> <a class=\"tocSkip\"></a>\n",
        "\n",
        "Needs fixing. The block requires some corrections. Work can't be accepted with the red comments.\n",
        "</div>\n",
        "\n",
        "You can answer me by using this:\n",
        "\n",
        "<div class=\"alert alert-block alert-info\">\n",
        "<b>Student answer.</b> <a class=\"tocSkip\"></a>\n",
        "</div>"
      ]
    },
    {
      "cell_type": "markdown",
      "metadata": {},
      "source": [
        "Thank you so much for submitting your project! \n",
        "\n",
        "In this project, you'll build a machine learning model to help Megaline recommend the best plan for their subscribers. Using behavior data, your goal is to classify users into either the Smart or Ultra plan. You'll focus on developing a model with an accuracy of at least 0.75.\n",
        "\n",
        "Great job on your project! Your model is well-constructed and meets the accuracy requirement. You've done an excellent job applying your skills to solve the problem, but there some steps to be corrected. Keep it up!\n",
        "\n",
        "\n",
        "<div class=\"alert alert-block alert-success\">\n",
        "\n",
        "### Project's strengths:\n",
        "- Great work on the use of data.info() and data.describe() is good for an overview of the dataset.\n",
        "- Great work finding the optimal max_depth value dynamically!\n",
        "</div>\n",
        "\n",
        "\n",
        "<div class=\"alert alert-block alert-danger\">\n",
        "\n",
        "### To be corrected:\n",
        "- Logistic regression models typically benefit from feature scaling before fitting the Logistic Regression model.\n",
        "- Please note that the error_count() function is not necessary and should be removed.\n",
        "- The custom accuracy function you wrote is redundant since accuracy_score from sklearn already handles this.\n",
        "- There's a small issue with the RMSE calculation.\n",
        "</div>\n",
        "\n",
        "<div class=\"alert alert-block alert-warning\">\n",
        "\n",
        "### Could be better:\n",
        "- You are currently importing two functions from sklearn.metrics on separate lines.\n",
        "- Downloading the dataset and incorporating it into the project if possible.\n",
        "- print(data.isnull().sum()) and print(data.duplicated().sum()) are redundant after data.info().\n",
        "- Adjusting the ratio to something like 60-20-20 for better results.\n",
        "- You could enhance the process by storing the max_depth value dynamically.\n",
        "</div>\n",
        "\n",
        "Please remember that the project can only be accepted once all the 'To be corrected' points have been addressed"
      ]
    },
    {
      "cell_type": "markdown",
      "metadata": {},
      "source": [
        "<div class=\"alert alert-block alert-success\">\n",
        "<b>Overallv reviewer's comment</b> <a class=\"tocSkip\"></a>\n",
        "\n",
        "STUDENT NAME, thank you for sending your project.  Very good job.\n",
        "\n",
        "While there's room for improvement, on the whole, your project is impressive good.\n",
        "I like your code and conclusions.\n",
        "\n",
        "<span class=\"text-danger\"> There are few things that need to be corrected in your project before being accepted. They're mostly minor issues that are easy to fix. Could you check my comments? Do not hesistate to ask an advice, if you have any problems!</span>\n",
        "\n",
        "Every issue with our code is a chance for us to learn something new.\n",
        "\n",
        "Good luck! :)\n",
        "\n",
        "</div>\n"
      ]
    },
    {
      "cell_type": "markdown",
      "metadata": {
        "id": "5jbpaOmr1z3r"
      },
      "source": [
        "# Project description\n",
        "Mobile carrier Megaline has found out that many of their subscribers use legacy plans. They want to develop a model that would analyze subscribers' behavior and recommend one of Megaline's newer plans: Smart or Ultra.\n",
        "\n",
        "You have access to behavior data about subscribers who have already switched to the new plans (from the project for the Statistical Data Analysis course). For this classification task, you need to develop a model that will pick the right plan. Since you’ve already performed the data preprocessing step, you can move straight to creating the model.\n",
        "\n",
        "Develop a model with the highest possible accuracy. In this project, the threshold for accuracy is 0.75. Check the accuracy using the test dataset."
      ]
    },
    {
      "cell_type": "markdown",
      "metadata": {
        "id": "475JeDOm1z3r"
      },
      "source": [
        "I will finish the project using the following steps:\n",
        "    \n",
        "- Open and look through the data file. Path to the file: /datasets/users_behavior.csv .\n",
        "\n",
        "- Spliting the source data into a training set, a validation set, and a test set.\n",
        "\n",
        "- Investigate the quality of different models by changing hyperparameters. While Briefly describing the findings of the study.\n",
        "\n",
        "- Checking the quality of the model using the test set.\n",
        "\n",
        "- Additional task: sanity check the model. This data is more complex than what I am used to working with, so it's not an easy task. We'll take a closer look at it later."
      ]
    },
    {
      "cell_type": "markdown",
      "metadata": {
        "id": "_vEqoFAk1z3s",
        "toc": true
      },
      "source": [
        "<h1>Table of Contents<span class=\"tocSkip\"></span></h1>\n",
        "<div class=\"toc\"><ul class=\"toc-item\"><li><span><a href=\"#Review-Iterations-1\" data-toc-modified-id=\"Review-Iterations-1-1\"><span class=\"toc-item-num\">1&nbsp;&nbsp;</span>Review Iterations 1</a></span></li><li><span><a href=\"#Importing-files\" data-toc-modified-id=\"Importing-files-2\"><span class=\"toc-item-num\">2&nbsp;&nbsp;</span>Importing files</a></span></li><li><span><a href=\"#Spliting-the-source-data-into-a-training-set,-a-validation-set,-and-a-test-set.\" data-toc-modified-id=\"Spliting-the-source-data-into-a-training-set,-a-validation-set,-and-a-test-set.-3\"><span class=\"toc-item-num\">3&nbsp;&nbsp;</span>Spliting the source data into a training set, a validation set, and a test set.</a></span></li><li><span><a href=\"#Investigate-the-quality-of-different-models-by-changing-hyperparameters.-While-Briefly-describing-the-findings-of-the-study.\" data-toc-modified-id=\"Investigate-the-quality-of-different-models-by-changing-hyperparameters.-While-Briefly-describing-the-findings-of-the-study.-4\"><span class=\"toc-item-num\">4&nbsp;&nbsp;</span>Investigate the quality of different models by changing hyperparameters. While Briefly describing the findings of the study.</a></span></li><li><span><a href=\"#Checking-the-quality-of-the-model-using-the-test-set.\" data-toc-modified-id=\"Checking-the-quality-of-the-model-using-the-test-set.-5\"><span class=\"toc-item-num\">5&nbsp;&nbsp;</span>Checking the quality of the model using the test set.</a></span></li><li><span><a href=\"#Additional-task:-sanity-check-the-model.\" data-toc-modified-id=\"Additional-task:-sanity-check-the-model.-6\"><span class=\"toc-item-num\">6&nbsp;&nbsp;</span>Additional task: sanity check the model.</a></span></li><li><span><a href=\"#Conclusion\" data-toc-modified-id=\"Conclusion-7\"><span class=\"toc-item-num\">7&nbsp;&nbsp;</span>Conclusion</a></span></li></ul></div>"
      ]
    },
    {
      "cell_type": "markdown",
      "metadata": {},
      "source": [
        "<div class=\"alert alert-block alert-warning\">\n",
        "<b>Reviewer's comment</b> <a class=\"tocSkip\"></a>\n",
        "\n",
        "You are currently importing two functions from sklearn.metrics on separate lines. It would be more efficient to combine them into a single line. This will help keep the code cleaner and more concise.\n",
        "</div>\n"
      ]
    },
    {
      "cell_type": "markdown",
      "metadata": {
        "id": "na_d2sEl1z3t"
      },
      "source": [
        "## Importing files\n",
        "Importing files and checking data for any incorrect data types, missing values or duplicate values."
      ]
    },
    {
      "cell_type": "code",
      "execution_count": 1,
      "metadata": {
        "id": "9yBD5noq1z3t"
      },
      "outputs": [],
      "source": [
        "import pandas as pd\n",
        "from sklearn.model_selection import train_test_split\n",
        "from sklearn.metrics import accuracy_score\n",
        "from sklearn.linear_model import LogisticRegression\n",
        "from sklearn.tree import DecisionTreeClassifier\n",
        "from sklearn.ensemble import RandomForestClassifier\n",
        "from sklearn.metrics import mean_squared_error"
      ]
    },
    {
      "cell_type": "markdown",
      "metadata": {},
      "source": [
        "<div class=\"alert alert-block alert-warning\">\n",
        "<b>Reviewer's comment</b> <a class=\"tocSkip\"></a>\n",
        "\n",
        "I recommend downloading the dataset and incorporating it into the project if possible. This could be helpful in case you need to work offline or if the dataset repository becomes unavailable or is removed.\n",
        "</div>"
      ]
    },
    {
      "cell_type": "code",
      "execution_count": 2,
      "metadata": {
        "id": "ss2LKt3g1z3u"
      },
      "outputs": [],
      "source": [
        "data = pd.read_csv(\"https://code.s3.yandex.net/datasets/users_behavior.csv\")"
      ]
    },
    {
      "cell_type": "code",
      "execution_count": 3,
      "metadata": {
        "colab": {
          "base_uri": "https://localhost:8080/",
          "height": 206
        },
        "id": "XtQustZl1z3v",
        "outputId": "0c8b7d22-50d4-4cfd-eb2f-d5f4a97b6b76"
      },
      "outputs": [
        {
          "data": {
            "text/html": [
              "<div>\n",
              "<style scoped>\n",
              "    .dataframe tbody tr th:only-of-type {\n",
              "        vertical-align: middle;\n",
              "    }\n",
              "\n",
              "    .dataframe tbody tr th {\n",
              "        vertical-align: top;\n",
              "    }\n",
              "\n",
              "    .dataframe thead th {\n",
              "        text-align: right;\n",
              "    }\n",
              "</style>\n",
              "<table border=\"1\" class=\"dataframe\">\n",
              "  <thead>\n",
              "    <tr style=\"text-align: right;\">\n",
              "      <th></th>\n",
              "      <th>calls</th>\n",
              "      <th>minutes</th>\n",
              "      <th>messages</th>\n",
              "      <th>mb_used</th>\n",
              "      <th>is_ultra</th>\n",
              "    </tr>\n",
              "  </thead>\n",
              "  <tbody>\n",
              "    <tr>\n",
              "      <th>0</th>\n",
              "      <td>40.0</td>\n",
              "      <td>311.90</td>\n",
              "      <td>83.0</td>\n",
              "      <td>19915.42</td>\n",
              "      <td>0</td>\n",
              "    </tr>\n",
              "    <tr>\n",
              "      <th>1</th>\n",
              "      <td>85.0</td>\n",
              "      <td>516.75</td>\n",
              "      <td>56.0</td>\n",
              "      <td>22696.96</td>\n",
              "      <td>0</td>\n",
              "    </tr>\n",
              "    <tr>\n",
              "      <th>2</th>\n",
              "      <td>77.0</td>\n",
              "      <td>467.66</td>\n",
              "      <td>86.0</td>\n",
              "      <td>21060.45</td>\n",
              "      <td>0</td>\n",
              "    </tr>\n",
              "    <tr>\n",
              "      <th>3</th>\n",
              "      <td>106.0</td>\n",
              "      <td>745.53</td>\n",
              "      <td>81.0</td>\n",
              "      <td>8437.39</td>\n",
              "      <td>1</td>\n",
              "    </tr>\n",
              "    <tr>\n",
              "      <th>4</th>\n",
              "      <td>66.0</td>\n",
              "      <td>418.74</td>\n",
              "      <td>1.0</td>\n",
              "      <td>14502.75</td>\n",
              "      <td>0</td>\n",
              "    </tr>\n",
              "  </tbody>\n",
              "</table>\n",
              "</div>"
            ],
            "text/plain": [
              "   calls  minutes  messages   mb_used  is_ultra\n",
              "0   40.0   311.90      83.0  19915.42         0\n",
              "1   85.0   516.75      56.0  22696.96         0\n",
              "2   77.0   467.66      86.0  21060.45         0\n",
              "3  106.0   745.53      81.0   8437.39         1\n",
              "4   66.0   418.74       1.0  14502.75         0"
            ]
          },
          "metadata": {},
          "output_type": "display_data"
        }
      ],
      "source": [
        "display(data.head())"
      ]
    },
    {
      "cell_type": "code",
      "execution_count": 4,
      "metadata": {
        "colab": {
          "base_uri": "https://localhost:8080/",
          "height": 243
        },
        "id": "FBqfHjcL1z3v",
        "outputId": "852eed93-6bbf-4b01-e4f3-c0a3f0f050fe"
      },
      "outputs": [
        {
          "name": "stdout",
          "output_type": "stream",
          "text": [
            "<class 'pandas.core.frame.DataFrame'>\n",
            "RangeIndex: 3214 entries, 0 to 3213\n",
            "Data columns (total 5 columns):\n",
            " #   Column    Non-Null Count  Dtype  \n",
            "---  ------    --------------  -----  \n",
            " 0   calls     3214 non-null   float64\n",
            " 1   minutes   3214 non-null   float64\n",
            " 2   messages  3214 non-null   float64\n",
            " 3   mb_used   3214 non-null   float64\n",
            " 4   is_ultra  3214 non-null   int64  \n",
            "dtypes: float64(4), int64(1)\n",
            "memory usage: 125.7 KB\n"
          ]
        },
        {
          "data": {
            "text/plain": [
              "None"
            ]
          },
          "metadata": {},
          "output_type": "display_data"
        }
      ],
      "source": [
        "display(data.info())"
      ]
    },
    {
      "cell_type": "code",
      "execution_count": 5,
      "metadata": {
        "colab": {
          "base_uri": "https://localhost:8080/"
        },
        "id": "jPecufA91z3w",
        "outputId": "74d1aa4b-6481-4a40-b51c-64d412b3ef7e"
      },
      "outputs": [
        {
          "name": "stdout",
          "output_type": "stream",
          "text": [
            "[0 1]\n"
          ]
        }
      ],
      "source": [
        "print(data[\"is_ultra\"].unique())"
      ]
    },
    {
      "cell_type": "markdown",
      "metadata": {
        "id": "c9AGgNH_1z3w"
      },
      "source": [
        "All data types seems correct, with the only column that might cause problems being is_ultra. is _ultra is acting as bolean values where 0 is False and 1 is True. This might not cause problems for the model that will be developed, but if any do happen to pop up. This might be one of the possible issues."
      ]
    },
    {
      "cell_type": "code",
      "execution_count": 6,
      "metadata": {
        "colab": {
          "base_uri": "https://localhost:8080/",
          "height": 300
        },
        "id": "I7QROuRF1z3w",
        "outputId": "a44680d1-135c-40de-b5f5-f93158b49d52"
      },
      "outputs": [
        {
          "data": {
            "text/html": [
              "<div>\n",
              "<style scoped>\n",
              "    .dataframe tbody tr th:only-of-type {\n",
              "        vertical-align: middle;\n",
              "    }\n",
              "\n",
              "    .dataframe tbody tr th {\n",
              "        vertical-align: top;\n",
              "    }\n",
              "\n",
              "    .dataframe thead th {\n",
              "        text-align: right;\n",
              "    }\n",
              "</style>\n",
              "<table border=\"1\" class=\"dataframe\">\n",
              "  <thead>\n",
              "    <tr style=\"text-align: right;\">\n",
              "      <th></th>\n",
              "      <th>calls</th>\n",
              "      <th>minutes</th>\n",
              "      <th>messages</th>\n",
              "      <th>mb_used</th>\n",
              "      <th>is_ultra</th>\n",
              "    </tr>\n",
              "  </thead>\n",
              "  <tbody>\n",
              "    <tr>\n",
              "      <th>count</th>\n",
              "      <td>3214.000000</td>\n",
              "      <td>3214.000000</td>\n",
              "      <td>3214.000000</td>\n",
              "      <td>3214.000000</td>\n",
              "      <td>3214.000000</td>\n",
              "    </tr>\n",
              "    <tr>\n",
              "      <th>mean</th>\n",
              "      <td>63.038892</td>\n",
              "      <td>438.208787</td>\n",
              "      <td>38.281269</td>\n",
              "      <td>17207.673836</td>\n",
              "      <td>0.306472</td>\n",
              "    </tr>\n",
              "    <tr>\n",
              "      <th>std</th>\n",
              "      <td>33.236368</td>\n",
              "      <td>234.569872</td>\n",
              "      <td>36.148326</td>\n",
              "      <td>7570.968246</td>\n",
              "      <td>0.461100</td>\n",
              "    </tr>\n",
              "    <tr>\n",
              "      <th>min</th>\n",
              "      <td>0.000000</td>\n",
              "      <td>0.000000</td>\n",
              "      <td>0.000000</td>\n",
              "      <td>0.000000</td>\n",
              "      <td>0.000000</td>\n",
              "    </tr>\n",
              "    <tr>\n",
              "      <th>25%</th>\n",
              "      <td>40.000000</td>\n",
              "      <td>274.575000</td>\n",
              "      <td>9.000000</td>\n",
              "      <td>12491.902500</td>\n",
              "      <td>0.000000</td>\n",
              "    </tr>\n",
              "    <tr>\n",
              "      <th>50%</th>\n",
              "      <td>62.000000</td>\n",
              "      <td>430.600000</td>\n",
              "      <td>30.000000</td>\n",
              "      <td>16943.235000</td>\n",
              "      <td>0.000000</td>\n",
              "    </tr>\n",
              "    <tr>\n",
              "      <th>75%</th>\n",
              "      <td>82.000000</td>\n",
              "      <td>571.927500</td>\n",
              "      <td>57.000000</td>\n",
              "      <td>21424.700000</td>\n",
              "      <td>1.000000</td>\n",
              "    </tr>\n",
              "    <tr>\n",
              "      <th>max</th>\n",
              "      <td>244.000000</td>\n",
              "      <td>1632.060000</td>\n",
              "      <td>224.000000</td>\n",
              "      <td>49745.730000</td>\n",
              "      <td>1.000000</td>\n",
              "    </tr>\n",
              "  </tbody>\n",
              "</table>\n",
              "</div>"
            ],
            "text/plain": [
              "             calls      minutes     messages       mb_used     is_ultra\n",
              "count  3214.000000  3214.000000  3214.000000   3214.000000  3214.000000\n",
              "mean     63.038892   438.208787    38.281269  17207.673836     0.306472\n",
              "std      33.236368   234.569872    36.148326   7570.968246     0.461100\n",
              "min       0.000000     0.000000     0.000000      0.000000     0.000000\n",
              "25%      40.000000   274.575000     9.000000  12491.902500     0.000000\n",
              "50%      62.000000   430.600000    30.000000  16943.235000     0.000000\n",
              "75%      82.000000   571.927500    57.000000  21424.700000     1.000000\n",
              "max     244.000000  1632.060000   224.000000  49745.730000     1.000000"
            ]
          },
          "metadata": {},
          "output_type": "display_data"
        }
      ],
      "source": [
        "display(data.describe())"
      ]
    },
    {
      "cell_type": "markdown",
      "metadata": {
        "vscode": {
          "languageId": "bat"
        }
      },
      "source": [
        "\n",
        "<div class=\"alert alert-block alert-success\">\n",
        "<b>Reviewer's comment</b> <a class=\"tocSkip\"></a>\n",
        "\n",
        "The use of data.info() and data.describe() is good for an overview of the dataset.\n",
        "</div>\n",
        "\n",
        "<div class=\"alert alert-block alert-warning\">\n",
        "<b>Reviewer's comment</b> <a class=\"tocSkip\"></a>\n",
        "\n",
        "However, both print(data.isnull().sum()) and print(data.duplicated().sum()) are redundant after data.info(), which already highlights missing values. So both of them are no needed.\n",
        "</div>"
      ]
    },
    {
      "cell_type": "code",
      "execution_count": 7,
      "metadata": {
        "colab": {
          "base_uri": "https://localhost:8080/"
        },
        "id": "mxbDo0u91z3w",
        "outputId": "2bdc2fa2-4702-4bed-aa16-bb97d97aaefe"
      },
      "outputs": [
        {
          "name": "stdout",
          "output_type": "stream",
          "text": [
            "calls       0\n",
            "minutes     0\n",
            "messages    0\n",
            "mb_used     0\n",
            "is_ultra    0\n",
            "dtype: int64\n"
          ]
        }
      ],
      "source": [
        "print(data.isnull().sum())"
      ]
    },
    {
      "cell_type": "code",
      "execution_count": 8,
      "metadata": {
        "colab": {
          "base_uri": "https://localhost:8080/"
        },
        "id": "MpVj1TZ61z3x",
        "outputId": "eb99925f-faa0-4803-80d4-9bedb8e8e02c"
      },
      "outputs": [
        {
          "name": "stdout",
          "output_type": "stream",
          "text": [
            "0\n"
          ]
        }
      ],
      "source": [
        "print(data.duplicated().sum())"
      ]
    },
    {
      "cell_type": "markdown",
      "metadata": {
        "id": "T62_nWMN1z3x"
      },
      "source": [
        "There seems to be no missing values or duplicate rows in the dataset, and would be safe to say that we can continue."
      ]
    },
    {
      "cell_type": "markdown",
      "metadata": {},
      "source": [
        "<div class=\"alert alert-block alert-warning\">\n",
        "<b>Reviewer's comment</b> <a class=\"tocSkip\"></a>\n",
        "\n",
        "Currently, the dataset is divided into 50% for training and 25% each for validation and testing. A more typical split is 60-20-20 or 70-15-15, which can provide the model with more training data and potentially enhance its performance.\n",
        "\n",
        "I suggest adjusting the ratio to something like 60-20-20 for better results.\n",
        "</div>"
      ]
    },
    {
      "cell_type": "markdown",
      "metadata": {
        "id": "_prfbDQe1z3x"
      },
      "source": [
        "##  Spliting the source data into a training set, a validation set, and a test set.\n",
        "Splitting the source data into a training set, a validation set and a test set for the model that will be selected. \n",
        "\n",
        "I will split the data in the following order, putting 50% of the data in the training set, 25% in the validation set, and 25% in the test set. It is default to use the largest portion of data to train the model, so it can be as accurate as possible."
      ]
    },
    {
      "cell_type": "code",
      "execution_count": 9,
      "metadata": {
        "id": "6setYdTK1z3x"
      },
      "outputs": [],
      "source": [
        "data_train, data_valid = train_test_split(data, test_size=0.5, random_state=12345)\n",
        "data_valid, data_test = train_test_split(data_valid, test_size=0.5, random_state=12345)"
      ]
    },
    {
      "cell_type": "code",
      "execution_count": 10,
      "metadata": {
        "colab": {
          "base_uri": "https://localhost:8080/"
        },
        "id": "tB6bUbPM1z3y",
        "outputId": "65575ef3-8424-4ebb-ffc1-a6a8494375cd"
      },
      "outputs": [
        {
          "name": "stdout",
          "output_type": "stream",
          "text": [
            "(1607, 4)\n",
            "(1607,)\n",
            "(803, 4)\n",
            "(803,)\n",
            "(804, 4)\n",
            "(804,)\n"
          ]
        }
      ],
      "source": [
        "features_train = data_train.drop([\"is_ultra\"], axis=1)\n",
        "target_train = data_train['is_ultra']\n",
        "features_valid = data_valid.drop([\"is_ultra\"], axis=1)\n",
        "target_valid = data_valid['is_ultra']\n",
        "features_test = data_test.drop([\"is_ultra\"], axis=1)\n",
        "target_test = data_test[\"is_ultra\"]\n",
        "\n",
        "print(features_train.shape)\n",
        "print(target_train.shape)\n",
        "print(features_valid.shape)\n",
        "print(target_valid.shape)\n",
        "print(features_test.shape)\n",
        "print(target_test.shape)"
      ]
    },
    {
      "cell_type": "markdown",
      "metadata": {
        "id": "dL7mApyo1z3y"
      },
      "source": [
        "Seems that the dataset we are working with has a uneven number of rows, thus the awkward 1 row difference in the valid and test set."
      ]
    },
    {
      "cell_type": "markdown",
      "metadata": {
        "id": "TW9A-N4Z1z3y"
      },
      "source": [
        "## Investigate the quality of different models by changing hyperparameters. While Briefly describing the findings of the study."
      ]
    },
    {
      "cell_type": "markdown",
      "metadata": {
        "id": "TKPZcir61z3y"
      },
      "source": [
        "I will test various models with accuracy score. This will be done by changing hyperparameters. I will set a 0.75 threshold."
      ]
    },
    {
      "cell_type": "markdown",
      "metadata": {},
      "source": [
        "<div class=\"alert alert-block alert-success\">\n",
        "<b>Reviewer's comment</b> <a class=\"tocSkip\"></a>\n",
        "\n",
        "Great work finding the optimal max_depth value dynamically!\n",
        "</div>\n",
        "\n",
        "<div class=\"alert alert-block alert-warning\">\n",
        "<b>Reviewer's comment</b> <a class=\"tocSkip\"></a>\n",
        "\n",
        "You could enhance the process by storing the max_depth value dynamically, which would yield better results. This way, you won't need to hardcode or manually set it. You can also print the value once the for loop completes.\n",
        "</div>"
      ]
    },
    {
      "cell_type": "code",
      "execution_count": 11,
      "metadata": {
        "colab": {
          "base_uri": "https://localhost:8080/"
        },
        "id": "_t4WlNyi1z3y",
        "outputId": "2acf5ab9-e418-43da-feea-94d787109527"
      },
      "outputs": [
        {
          "name": "stdout",
          "output_type": "stream",
          "text": [
            "max_depth = 1 : 0.7571606475716065\n",
            "max_depth = 2 : 0.7808219178082192\n",
            "max_depth = 3 : 0.7870485678704857\n",
            "max_depth = 4 : 0.7820672478206725\n",
            "max_depth = 5 : 0.7820672478206725\n"
          ]
        }
      ],
      "source": [
        "for depth in range(1, 6):\n",
        "    model1 = DecisionTreeClassifier(random_state=12345, max_depth=depth)\n",
        "    model1.fit(features_train, target_train)\n",
        "    predictions_valid1 = model1.predict(features_valid)\n",
        "    print(\"max_depth =\", depth, \": \", end=\"\")\n",
        "    print(accuracy_score(target_valid, predictions_valid1))"
      ]
    },
    {
      "cell_type": "markdown",
      "metadata": {
        "id": "A98A8Npw1z3y"
      },
      "source": [
        "max_depth of 3 seems to have the best quality of results being 0.787. This is good considering that it beats the 50/50 odds of guessing and also doesn't have a higher number max_depth of 5 since that could cause overfitting in the decision tree."
      ]
    },
    {
      "cell_type": "code",
      "execution_count": 12,
      "metadata": {
        "colab": {
          "base_uri": "https://localhost:8080/"
        },
        "id": "Yytlyab91z3z",
        "outputId": "cc85bcf8-4620-41aa-dcd6-76cd42d416b6"
      },
      "outputs": [
        {
          "name": "stdout",
          "output_type": "stream",
          "text": [
            "Accuracy of the best model on the validation set (n_estimators = 8): 0.7858032378580324\n"
          ]
        }
      ],
      "source": [
        "best_est=0\n",
        "best_score=0\n",
        "\n",
        "for est in range(1, 11): \n",
        "    model2 = RandomForestClassifier(random_state=12345, n_estimators=est) \n",
        "    model2.fit(features_train, target_train)\n",
        "    score2 = model2.score(features_valid, target_valid)\n",
        "    if score2 > best_score:\n",
        "        best_score = score2\n",
        "        best_est = est\n",
        "print(\"Accuracy of the best model on the validation set (n_estimators = {}): {}\".format(best_est, best_score))"
      ]
    },
    {
      "cell_type": "markdown",
      "metadata": {
        "id": "LzIHgVb21z3z"
      },
      "source": [
        "N_estimators of 8 seems to have best score, but it doesn't seem to be doing better then the decision tree. With the Random Forest having a score of 0.785 and decision tree with 0.787."
      ]
    },
    {
      "cell_type": "markdown",
      "metadata": {},
      "source": [
        "<div class=\"alert alert-block alert-danger\">\n",
        "<b>Reviewer's comment</b> <a class=\"tocSkip\"></a>\n",
        "\n",
        "Feature scaling for Logistic Regression:\n",
        "\n",
        "Logistic regression models typically benefit from feature scaling (e.g., standardization) since the model is sensitive to the range of the input features.\n",
        "Suggestion: Use StandardScaler from sklearn.preprocessing to scale features before fitting the Logistic Regression model:\n",
        "</div>"
      ]
    },
    {
      "cell_type": "code",
      "execution_count": 13,
      "metadata": {
        "colab": {
          "base_uri": "https://localhost:8080/"
        },
        "id": "r82fIIKy1z3z",
        "outputId": "7f9cdbc6-72b1-450c-98c8-27885c17e95c"
      },
      "outputs": [
        {
          "name": "stdout",
          "output_type": "stream",
          "text": [
            "Accuracy of the logistic regression model on the training set: 0.7423771001866832\n",
            "Accuracy of the logistic regression model on the validation set: 0.7484433374844334\n"
          ]
        }
      ],
      "source": [
        "model3 = LogisticRegression(random_state=12345, solver=\"liblinear\")\n",
        "model3.fit(features_train, target_train)\n",
        "score_train = model3.score(features_train, target_train)\n",
        "score_valid = model3.score(features_valid, target_valid)\n",
        "print(\"Accuracy of the logistic regression model on the training set:\", score_train)\n",
        "print(\"Accuracy of the logistic regression model on the validation set:\", score_valid)"
      ]
    },
    {
      "cell_type": "markdown",
      "metadata": {
        "id": "lh5PNOQa1z3z"
      },
      "source": [
        "Seems that the logistic regression model did the worst with an accuracy score of 0.748, not meeting the accuracy threshold of 0.75."
      ]
    },
    {
      "cell_type": "markdown",
      "metadata": {
        "id": "XNaj4iV21z30"
      },
      "source": [
        "Although not all models beat the 0.75 threshold, the best model was the decision tree model with a score of 0.787. This model will be used for the project. This makes sense, since the is_ultra column is like a bolean value with there being only 1 or 0."
      ]
    },
    {
      "cell_type": "markdown",
      "metadata": {
        "id": "v-jx4Q401z30"
      },
      "source": [
        "## Checking the quality of the model using the test set."
      ]
    },
    {
      "cell_type": "markdown",
      "metadata": {
        "id": "qSkBeQOI1z30"
      },
      "source": [
        "I will check the quality of the final model with the use of the test set."
      ]
    },
    {
      "cell_type": "code",
      "execution_count": 14,
      "metadata": {
        "colab": {
          "base_uri": "https://localhost:8080/",
          "height": 75
        },
        "id": "GpwgvnpD1z30",
        "outputId": "2cb22b4f-38a6-46a2-f20c-fb6c662f000c"
      },
      "outputs": [
        {
          "data": {
            "text/html": [
              "<style>#sk-container-id-1 {\n",
              "  /* Definition of color scheme common for light and dark mode */\n",
              "  --sklearn-color-text: black;\n",
              "  --sklearn-color-line: gray;\n",
              "  /* Definition of color scheme for unfitted estimators */\n",
              "  --sklearn-color-unfitted-level-0: #fff5e6;\n",
              "  --sklearn-color-unfitted-level-1: #f6e4d2;\n",
              "  --sklearn-color-unfitted-level-2: #ffe0b3;\n",
              "  --sklearn-color-unfitted-level-3: chocolate;\n",
              "  /* Definition of color scheme for fitted estimators */\n",
              "  --sklearn-color-fitted-level-0: #f0f8ff;\n",
              "  --sklearn-color-fitted-level-1: #d4ebff;\n",
              "  --sklearn-color-fitted-level-2: #b3dbfd;\n",
              "  --sklearn-color-fitted-level-3: cornflowerblue;\n",
              "\n",
              "  /* Specific color for light theme */\n",
              "  --sklearn-color-text-on-default-background: var(--sg-text-color, var(--theme-code-foreground, var(--jp-content-font-color1, black)));\n",
              "  --sklearn-color-background: var(--sg-background-color, var(--theme-background, var(--jp-layout-color0, white)));\n",
              "  --sklearn-color-border-box: var(--sg-text-color, var(--theme-code-foreground, var(--jp-content-font-color1, black)));\n",
              "  --sklearn-color-icon: #696969;\n",
              "\n",
              "  @media (prefers-color-scheme: dark) {\n",
              "    /* Redefinition of color scheme for dark theme */\n",
              "    --sklearn-color-text-on-default-background: var(--sg-text-color, var(--theme-code-foreground, var(--jp-content-font-color1, white)));\n",
              "    --sklearn-color-background: var(--sg-background-color, var(--theme-background, var(--jp-layout-color0, #111)));\n",
              "    --sklearn-color-border-box: var(--sg-text-color, var(--theme-code-foreground, var(--jp-content-font-color1, white)));\n",
              "    --sklearn-color-icon: #878787;\n",
              "  }\n",
              "}\n",
              "\n",
              "#sk-container-id-1 {\n",
              "  color: var(--sklearn-color-text);\n",
              "}\n",
              "\n",
              "#sk-container-id-1 pre {\n",
              "  padding: 0;\n",
              "}\n",
              "\n",
              "#sk-container-id-1 input.sk-hidden--visually {\n",
              "  border: 0;\n",
              "  clip: rect(1px 1px 1px 1px);\n",
              "  clip: rect(1px, 1px, 1px, 1px);\n",
              "  height: 1px;\n",
              "  margin: -1px;\n",
              "  overflow: hidden;\n",
              "  padding: 0;\n",
              "  position: absolute;\n",
              "  width: 1px;\n",
              "}\n",
              "\n",
              "#sk-container-id-1 div.sk-dashed-wrapped {\n",
              "  border: 1px dashed var(--sklearn-color-line);\n",
              "  margin: 0 0.4em 0.5em 0.4em;\n",
              "  box-sizing: border-box;\n",
              "  padding-bottom: 0.4em;\n",
              "  background-color: var(--sklearn-color-background);\n",
              "}\n",
              "\n",
              "#sk-container-id-1 div.sk-container {\n",
              "  /* jupyter's `normalize.less` sets `[hidden] { display: none; }`\n",
              "     but bootstrap.min.css set `[hidden] { display: none !important; }`\n",
              "     so we also need the `!important` here to be able to override the\n",
              "     default hidden behavior on the sphinx rendered scikit-learn.org.\n",
              "     See: https://github.com/scikit-learn/scikit-learn/issues/21755 */\n",
              "  display: inline-block !important;\n",
              "  position: relative;\n",
              "}\n",
              "\n",
              "#sk-container-id-1 div.sk-text-repr-fallback {\n",
              "  display: none;\n",
              "}\n",
              "\n",
              "div.sk-parallel-item,\n",
              "div.sk-serial,\n",
              "div.sk-item {\n",
              "  /* draw centered vertical line to link estimators */\n",
              "  background-image: linear-gradient(var(--sklearn-color-text-on-default-background), var(--sklearn-color-text-on-default-background));\n",
              "  background-size: 2px 100%;\n",
              "  background-repeat: no-repeat;\n",
              "  background-position: center center;\n",
              "}\n",
              "\n",
              "/* Parallel-specific style estimator block */\n",
              "\n",
              "#sk-container-id-1 div.sk-parallel-item::after {\n",
              "  content: \"\";\n",
              "  width: 100%;\n",
              "  border-bottom: 2px solid var(--sklearn-color-text-on-default-background);\n",
              "  flex-grow: 1;\n",
              "}\n",
              "\n",
              "#sk-container-id-1 div.sk-parallel {\n",
              "  display: flex;\n",
              "  align-items: stretch;\n",
              "  justify-content: center;\n",
              "  background-color: var(--sklearn-color-background);\n",
              "  position: relative;\n",
              "}\n",
              "\n",
              "#sk-container-id-1 div.sk-parallel-item {\n",
              "  display: flex;\n",
              "  flex-direction: column;\n",
              "}\n",
              "\n",
              "#sk-container-id-1 div.sk-parallel-item:first-child::after {\n",
              "  align-self: flex-end;\n",
              "  width: 50%;\n",
              "}\n",
              "\n",
              "#sk-container-id-1 div.sk-parallel-item:last-child::after {\n",
              "  align-self: flex-start;\n",
              "  width: 50%;\n",
              "}\n",
              "\n",
              "#sk-container-id-1 div.sk-parallel-item:only-child::after {\n",
              "  width: 0;\n",
              "}\n",
              "\n",
              "/* Serial-specific style estimator block */\n",
              "\n",
              "#sk-container-id-1 div.sk-serial {\n",
              "  display: flex;\n",
              "  flex-direction: column;\n",
              "  align-items: center;\n",
              "  background-color: var(--sklearn-color-background);\n",
              "  padding-right: 1em;\n",
              "  padding-left: 1em;\n",
              "}\n",
              "\n",
              "\n",
              "/* Toggleable style: style used for estimator/Pipeline/ColumnTransformer box that is\n",
              "clickable and can be expanded/collapsed.\n",
              "- Pipeline and ColumnTransformer use this feature and define the default style\n",
              "- Estimators will overwrite some part of the style using the `sk-estimator` class\n",
              "*/\n",
              "\n",
              "/* Pipeline and ColumnTransformer style (default) */\n",
              "\n",
              "#sk-container-id-1 div.sk-toggleable {\n",
              "  /* Default theme specific background. It is overwritten whether we have a\n",
              "  specific estimator or a Pipeline/ColumnTransformer */\n",
              "  background-color: var(--sklearn-color-background);\n",
              "}\n",
              "\n",
              "/* Toggleable label */\n",
              "#sk-container-id-1 label.sk-toggleable__label {\n",
              "  cursor: pointer;\n",
              "  display: block;\n",
              "  width: 100%;\n",
              "  margin-bottom: 0;\n",
              "  padding: 0.5em;\n",
              "  box-sizing: border-box;\n",
              "  text-align: center;\n",
              "}\n",
              "\n",
              "#sk-container-id-1 label.sk-toggleable__label-arrow:before {\n",
              "  /* Arrow on the left of the label */\n",
              "  content: \"▸\";\n",
              "  float: left;\n",
              "  margin-right: 0.25em;\n",
              "  color: var(--sklearn-color-icon);\n",
              "}\n",
              "\n",
              "#sk-container-id-1 label.sk-toggleable__label-arrow:hover:before {\n",
              "  color: var(--sklearn-color-text);\n",
              "}\n",
              "\n",
              "/* Toggleable content - dropdown */\n",
              "\n",
              "#sk-container-id-1 div.sk-toggleable__content {\n",
              "  max-height: 0;\n",
              "  max-width: 0;\n",
              "  overflow: hidden;\n",
              "  text-align: left;\n",
              "  /* unfitted */\n",
              "  background-color: var(--sklearn-color-unfitted-level-0);\n",
              "}\n",
              "\n",
              "#sk-container-id-1 div.sk-toggleable__content.fitted {\n",
              "  /* fitted */\n",
              "  background-color: var(--sklearn-color-fitted-level-0);\n",
              "}\n",
              "\n",
              "#sk-container-id-1 div.sk-toggleable__content pre {\n",
              "  margin: 0.2em;\n",
              "  border-radius: 0.25em;\n",
              "  color: var(--sklearn-color-text);\n",
              "  /* unfitted */\n",
              "  background-color: var(--sklearn-color-unfitted-level-0);\n",
              "}\n",
              "\n",
              "#sk-container-id-1 div.sk-toggleable__content.fitted pre {\n",
              "  /* unfitted */\n",
              "  background-color: var(--sklearn-color-fitted-level-0);\n",
              "}\n",
              "\n",
              "#sk-container-id-1 input.sk-toggleable__control:checked~div.sk-toggleable__content {\n",
              "  /* Expand drop-down */\n",
              "  max-height: 200px;\n",
              "  max-width: 100%;\n",
              "  overflow: auto;\n",
              "}\n",
              "\n",
              "#sk-container-id-1 input.sk-toggleable__control:checked~label.sk-toggleable__label-arrow:before {\n",
              "  content: \"▾\";\n",
              "}\n",
              "\n",
              "/* Pipeline/ColumnTransformer-specific style */\n",
              "\n",
              "#sk-container-id-1 div.sk-label input.sk-toggleable__control:checked~label.sk-toggleable__label {\n",
              "  color: var(--sklearn-color-text);\n",
              "  background-color: var(--sklearn-color-unfitted-level-2);\n",
              "}\n",
              "\n",
              "#sk-container-id-1 div.sk-label.fitted input.sk-toggleable__control:checked~label.sk-toggleable__label {\n",
              "  background-color: var(--sklearn-color-fitted-level-2);\n",
              "}\n",
              "\n",
              "/* Estimator-specific style */\n",
              "\n",
              "/* Colorize estimator box */\n",
              "#sk-container-id-1 div.sk-estimator input.sk-toggleable__control:checked~label.sk-toggleable__label {\n",
              "  /* unfitted */\n",
              "  background-color: var(--sklearn-color-unfitted-level-2);\n",
              "}\n",
              "\n",
              "#sk-container-id-1 div.sk-estimator.fitted input.sk-toggleable__control:checked~label.sk-toggleable__label {\n",
              "  /* fitted */\n",
              "  background-color: var(--sklearn-color-fitted-level-2);\n",
              "}\n",
              "\n",
              "#sk-container-id-1 div.sk-label label.sk-toggleable__label,\n",
              "#sk-container-id-1 div.sk-label label {\n",
              "  /* The background is the default theme color */\n",
              "  color: var(--sklearn-color-text-on-default-background);\n",
              "}\n",
              "\n",
              "/* On hover, darken the color of the background */\n",
              "#sk-container-id-1 div.sk-label:hover label.sk-toggleable__label {\n",
              "  color: var(--sklearn-color-text);\n",
              "  background-color: var(--sklearn-color-unfitted-level-2);\n",
              "}\n",
              "\n",
              "/* Label box, darken color on hover, fitted */\n",
              "#sk-container-id-1 div.sk-label.fitted:hover label.sk-toggleable__label.fitted {\n",
              "  color: var(--sklearn-color-text);\n",
              "  background-color: var(--sklearn-color-fitted-level-2);\n",
              "}\n",
              "\n",
              "/* Estimator label */\n",
              "\n",
              "#sk-container-id-1 div.sk-label label {\n",
              "  font-family: monospace;\n",
              "  font-weight: bold;\n",
              "  display: inline-block;\n",
              "  line-height: 1.2em;\n",
              "}\n",
              "\n",
              "#sk-container-id-1 div.sk-label-container {\n",
              "  text-align: center;\n",
              "}\n",
              "\n",
              "/* Estimator-specific */\n",
              "#sk-container-id-1 div.sk-estimator {\n",
              "  font-family: monospace;\n",
              "  border: 1px dotted var(--sklearn-color-border-box);\n",
              "  border-radius: 0.25em;\n",
              "  box-sizing: border-box;\n",
              "  margin-bottom: 0.5em;\n",
              "  /* unfitted */\n",
              "  background-color: var(--sklearn-color-unfitted-level-0);\n",
              "}\n",
              "\n",
              "#sk-container-id-1 div.sk-estimator.fitted {\n",
              "  /* fitted */\n",
              "  background-color: var(--sklearn-color-fitted-level-0);\n",
              "}\n",
              "\n",
              "/* on hover */\n",
              "#sk-container-id-1 div.sk-estimator:hover {\n",
              "  /* unfitted */\n",
              "  background-color: var(--sklearn-color-unfitted-level-2);\n",
              "}\n",
              "\n",
              "#sk-container-id-1 div.sk-estimator.fitted:hover {\n",
              "  /* fitted */\n",
              "  background-color: var(--sklearn-color-fitted-level-2);\n",
              "}\n",
              "\n",
              "/* Specification for estimator info (e.g. \"i\" and \"?\") */\n",
              "\n",
              "/* Common style for \"i\" and \"?\" */\n",
              "\n",
              ".sk-estimator-doc-link,\n",
              "a:link.sk-estimator-doc-link,\n",
              "a:visited.sk-estimator-doc-link {\n",
              "  float: right;\n",
              "  font-size: smaller;\n",
              "  line-height: 1em;\n",
              "  font-family: monospace;\n",
              "  background-color: var(--sklearn-color-background);\n",
              "  border-radius: 1em;\n",
              "  height: 1em;\n",
              "  width: 1em;\n",
              "  text-decoration: none !important;\n",
              "  margin-left: 1ex;\n",
              "  /* unfitted */\n",
              "  border: var(--sklearn-color-unfitted-level-1) 1pt solid;\n",
              "  color: var(--sklearn-color-unfitted-level-1);\n",
              "}\n",
              "\n",
              ".sk-estimator-doc-link.fitted,\n",
              "a:link.sk-estimator-doc-link.fitted,\n",
              "a:visited.sk-estimator-doc-link.fitted {\n",
              "  /* fitted */\n",
              "  border: var(--sklearn-color-fitted-level-1) 1pt solid;\n",
              "  color: var(--sklearn-color-fitted-level-1);\n",
              "}\n",
              "\n",
              "/* On hover */\n",
              "div.sk-estimator:hover .sk-estimator-doc-link:hover,\n",
              ".sk-estimator-doc-link:hover,\n",
              "div.sk-label-container:hover .sk-estimator-doc-link:hover,\n",
              ".sk-estimator-doc-link:hover {\n",
              "  /* unfitted */\n",
              "  background-color: var(--sklearn-color-unfitted-level-3);\n",
              "  color: var(--sklearn-color-background);\n",
              "  text-decoration: none;\n",
              "}\n",
              "\n",
              "div.sk-estimator.fitted:hover .sk-estimator-doc-link.fitted:hover,\n",
              ".sk-estimator-doc-link.fitted:hover,\n",
              "div.sk-label-container:hover .sk-estimator-doc-link.fitted:hover,\n",
              ".sk-estimator-doc-link.fitted:hover {\n",
              "  /* fitted */\n",
              "  background-color: var(--sklearn-color-fitted-level-3);\n",
              "  color: var(--sklearn-color-background);\n",
              "  text-decoration: none;\n",
              "}\n",
              "\n",
              "/* Span, style for the box shown on hovering the info icon */\n",
              ".sk-estimator-doc-link span {\n",
              "  display: none;\n",
              "  z-index: 9999;\n",
              "  position: relative;\n",
              "  font-weight: normal;\n",
              "  right: .2ex;\n",
              "  padding: .5ex;\n",
              "  margin: .5ex;\n",
              "  width: min-content;\n",
              "  min-width: 20ex;\n",
              "  max-width: 50ex;\n",
              "  color: var(--sklearn-color-text);\n",
              "  box-shadow: 2pt 2pt 4pt #999;\n",
              "  /* unfitted */\n",
              "  background: var(--sklearn-color-unfitted-level-0);\n",
              "  border: .5pt solid var(--sklearn-color-unfitted-level-3);\n",
              "}\n",
              "\n",
              ".sk-estimator-doc-link.fitted span {\n",
              "  /* fitted */\n",
              "  background: var(--sklearn-color-fitted-level-0);\n",
              "  border: var(--sklearn-color-fitted-level-3);\n",
              "}\n",
              "\n",
              ".sk-estimator-doc-link:hover span {\n",
              "  display: block;\n",
              "}\n",
              "\n",
              "/* \"?\"-specific style due to the `<a>` HTML tag */\n",
              "\n",
              "#sk-container-id-1 a.estimator_doc_link {\n",
              "  float: right;\n",
              "  font-size: 1rem;\n",
              "  line-height: 1em;\n",
              "  font-family: monospace;\n",
              "  background-color: var(--sklearn-color-background);\n",
              "  border-radius: 1rem;\n",
              "  height: 1rem;\n",
              "  width: 1rem;\n",
              "  text-decoration: none;\n",
              "  /* unfitted */\n",
              "  color: var(--sklearn-color-unfitted-level-1);\n",
              "  border: var(--sklearn-color-unfitted-level-1) 1pt solid;\n",
              "}\n",
              "\n",
              "#sk-container-id-1 a.estimator_doc_link.fitted {\n",
              "  /* fitted */\n",
              "  border: var(--sklearn-color-fitted-level-1) 1pt solid;\n",
              "  color: var(--sklearn-color-fitted-level-1);\n",
              "}\n",
              "\n",
              "/* On hover */\n",
              "#sk-container-id-1 a.estimator_doc_link:hover {\n",
              "  /* unfitted */\n",
              "  background-color: var(--sklearn-color-unfitted-level-3);\n",
              "  color: var(--sklearn-color-background);\n",
              "  text-decoration: none;\n",
              "}\n",
              "\n",
              "#sk-container-id-1 a.estimator_doc_link.fitted:hover {\n",
              "  /* fitted */\n",
              "  background-color: var(--sklearn-color-fitted-level-3);\n",
              "}\n",
              "</style><div id=\"sk-container-id-1\" class=\"sk-top-container\"><div class=\"sk-text-repr-fallback\"><pre>DecisionTreeClassifier(max_depth=3, random_state=12345)</pre><b>In a Jupyter environment, please rerun this cell to show the HTML representation or trust the notebook. <br />On GitHub, the HTML representation is unable to render, please try loading this page with nbviewer.org.</b></div><div class=\"sk-container\" hidden><div class=\"sk-item\"><div class=\"sk-estimator fitted sk-toggleable\"><input class=\"sk-toggleable__control sk-hidden--visually\" id=\"sk-estimator-id-1\" type=\"checkbox\" checked><label for=\"sk-estimator-id-1\" class=\"sk-toggleable__label fitted sk-toggleable__label-arrow fitted\">&nbsp;&nbsp;DecisionTreeClassifier<a class=\"sk-estimator-doc-link fitted\" rel=\"noreferrer\" target=\"_blank\" href=\"https://scikit-learn.org/1.5/modules/generated/sklearn.tree.DecisionTreeClassifier.html\">?<span>Documentation for DecisionTreeClassifier</span></a><span class=\"sk-estimator-doc-link fitted\">i<span>Fitted</span></span></label><div class=\"sk-toggleable__content fitted\"><pre>DecisionTreeClassifier(max_depth=3, random_state=12345)</pre></div> </div></div></div></div>"
            ],
            "text/plain": [
              "DecisionTreeClassifier(max_depth=3, random_state=12345)"
            ]
          },
          "execution_count": 14,
          "metadata": {},
          "output_type": "execute_result"
        }
      ],
      "source": [
        "final_model = DecisionTreeClassifier(random_state=12345, max_depth=3)\n",
        "final_model.fit(features_train, target_train)"
      ]
    },
    {
      "cell_type": "code",
      "execution_count": 15,
      "metadata": {
        "id": "YjWaowmx1z30"
      },
      "outputs": [],
      "source": [
        "predictions = final_model.predict(features_test)"
      ]
    },
    {
      "cell_type": "markdown",
      "metadata": {},
      "source": [
        "\n",
        "<div class=\"alert alert-block alert-danger\">\n",
        "\n",
        "<b>Reviewer's comment</b> <a class=\"tocSkip\"></a>\n",
        "\n",
        "Regarding the accuracy calculation, please note that the error_count() function is not necessary and should be removed. It’s recommended to use the accuracy_score function from sklearn for a more efficient and accurate measurement.\n",
        "</div>"
      ]
    },
    {
      "cell_type": "code",
      "execution_count": 16,
      "metadata": {
        "colab": {
          "base_uri": "https://localhost:8080/"
        },
        "id": "QcLgNFyy1z30",
        "outputId": "f9e50f9b-098f-4ce9-c536-aa87a250b922",
        "scrolled": true
      },
      "outputs": [
        {
          "name": "stdout",
          "output_type": "stream",
          "text": [
            "Errors: 167\n"
          ]
        }
      ],
      "source": [
        "def error_count(answers, predictions):\n",
        "    count = 0\n",
        "    for i in range(len(answers)):\n",
        "        if answers[i] != predictions[i]:\n",
        "            count += 1\n",
        "    return count\n",
        "target_test = target_test.reset_index(drop=True)\n",
        "print('Errors:', error_count(target_test, predictions))"
      ]
    },
    {
      "cell_type": "markdown",
      "metadata": {},
      "source": [
        "<div class=\"alert alert-block alert-danger\">\n",
        "\n",
        "<b>Reviewer's comment</b> <a class=\"tocSkip\"></a>\n",
        "\n",
        "Redundant accuracy function:\n",
        "\n",
        "The custom accuracy function you wrote is redundant since accuracy_score from sklearn already handles this. The manual calculation using loops is not necessary and less efficient.\n",
        "\n",
        "Suggestion: Replace accuracy() with accuracy_score() from sklearn\n",
        "</div>"
      ]
    },
    {
      "cell_type": "markdown",
      "metadata": {
        "id": "C_4oUWUO1z31"
      },
      "source": [
        "Target test was givving issues with the function passed and wouldn't display without resetting index. This was most likely due to the indices not aligning with the prediction list, so I reset the target_test to allign with predictions."
      ]
    },
    {
      "cell_type": "code",
      "execution_count": 17,
      "metadata": {
        "colab": {
          "base_uri": "https://localhost:8080/"
        },
        "id": "iXBpxzu81z31",
        "outputId": "e61a5735-920d-4a4f-e226-68e34628753c"
      },
      "outputs": [
        {
          "name": "stdout",
          "output_type": "stream",
          "text": [
            "Accuracy: 0.7922885572139303\n"
          ]
        }
      ],
      "source": [
        "def accuracy(answers, predictions):\n",
        "    new = len(answers) - error_count(answers, predictions)\n",
        "    new = new/len(answers)\n",
        "    return new\n",
        "\n",
        "print('Accuracy:', accuracy(target_test, predictions))"
      ]
    },
    {
      "cell_type": "markdown",
      "metadata": {
        "id": "4Vi244H11z32"
      },
      "source": [
        "About 8/10 this model isn't perfect, but it definitely does better then guessing(5/10) the outcome."
      ]
    },
    {
      "cell_type": "markdown",
      "metadata": {
        "id": "kU3KzeFY1z32"
      },
      "source": [
        "## Additional task: sanity check the model."
      ]
    },
    {
      "cell_type": "markdown",
      "metadata": {
        "id": "vdcSnIc21z32"
      },
      "source": [
        "Checking how far off we are by making use of the mean squared error function in sklearn and getting the squared root of that answer."
      ]
    },
    {
      "cell_type": "code",
      "execution_count": 18,
      "metadata": {
        "colab": {
          "base_uri": "https://localhost:8080/"
        },
        "id": "-Gk0PMjM1z32",
        "outputId": "00debafa-76eb-4a7a-86cb-fdba41893549"
      },
      "outputs": [
        {
          "name": "stdout",
          "output_type": "stream",
          "text": [
            "0.20771144278606965\n"
          ]
        }
      ],
      "source": [
        "result = mean_squared_error(target_test, predictions)\n",
        "print(result)"
      ]
    },
    {
      "cell_type": "markdown",
      "metadata": {},
      "source": [
        "<div class=\"alert alert-block alert-danger\">\n",
        "\n",
        "<b>Reviewer's comment</b> <a class=\"tocSkip\"></a>\n",
        "\n",
        "There's a small issue with the RMSE calculation. Currently, you're squaring the mean squared error, which is incorrect. Please adjust it to take the square root of the mean squared error instead.\n",
        "\n",
        "Another way to fix it, is by using the parameter squared of the function mean_squared_error().\n",
        "</div>"
      ]
    },
    {
      "cell_type": "code",
      "execution_count": 19,
      "metadata": {
        "colab": {
          "base_uri": "https://localhost:8080/"
        },
        "id": "wTnAlQcB1z32",
        "outputId": "fe1ea685-38ca-43a0-a12f-1403d3d63437"
      },
      "outputs": [
        {
          "name": "stdout",
          "output_type": "stream",
          "text": [
            "0.043144043464270684\n"
          ]
        }
      ],
      "source": [
        "rmse = result**2\n",
        "print(rmse)"
      ]
    },
    {
      "cell_type": "markdown",
      "metadata": {
        "id": "jr-uvyQT1z32"
      },
      "source": [
        "The rmse tells us that the predictions are roughly off by 0.0431."
      ]
    },
    {
      "cell_type": "markdown",
      "metadata": {
        "id": "NtYe7p-01z33"
      },
      "source": [
        "## Conclusion"
      ]
    },
    {
      "cell_type": "markdown",
      "metadata": {
        "id": "LlFRmiqx1z33"
      },
      "source": [
        "Mobile carrier Megaline has found out that many of their subscribers use legacy plans. They want to develop a model that would analyze subscribers' behavior and recommend one of Megaline's newer plans: Smart or Ultra.\n",
        "\n",
        "I have succesfully developed a model that would assign the appropriate plan on existing user behavior. Conclusions are as followed:\n",
        "\n",
        "- There is no missing values or duplicate rows in the dataset, and all data types are correct.\n",
        "\n",
        "- I will split the data in the following order, putting 50% of the data in the training set, 25% in the validation set, and 25% in the test set. It is default to use the largest portion of data to train the model, so it can be as accurate as possible.\n",
        "\n",
        "- Although not all models beat the 0.75 threshold, the best model was the decision tree with a max_depth of 3 model, with a score of 0.787. This model will be used for the project. This makes sense, since the is_ultra column is like a bolean value with there being only 1 or 0.\n",
        "\n",
        "- The model score on the test set is about 8/10 this model isn't perfect, but it definitely does better then guessing(5/10) the outcome.\n",
        "\n",
        "- The rmse tells us that the predictions are roughly off by 0.0431."
      ]
    },
    {
      "cell_type": "markdown",
      "metadata": {},
      "source": []
    }
  ],
  "metadata": {
    "colab": {
      "provenance": []
    },
    "kernelspec": {
      "display_name": "Python 3 (ipykernel)",
      "language": "python",
      "name": "python3"
    },
    "language_info": {
      "codemirror_mode": {
        "name": "ipython",
        "version": 3
      },
      "file_extension": ".py",
      "mimetype": "text/x-python",
      "name": "python",
      "nbconvert_exporter": "python",
      "pygments_lexer": "ipython3",
      "version": "3.10.12"
    },
    "toc": {
      "base_numbering": 1,
      "nav_menu": {},
      "number_sections": true,
      "sideBar": true,
      "skip_h1_title": true,
      "title_cell": "Table of Contents",
      "title_sidebar": "Contents",
      "toc_cell": true,
      "toc_position": {},
      "toc_section_display": true,
      "toc_window_display": false
    }
  },
  "nbformat": 4,
  "nbformat_minor": 0
}
